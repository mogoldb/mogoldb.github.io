{
 "cells": [
  {
   "cell_type": "markdown",
   "id": "ab070a45-b572-40f9-bffe-a8d23e964128",
   "metadata": {
    "tags": []
   },
   "source": [
    "<center> \n",
    "    <h1>Optimising Receiver Salary Allocation</h1>\n",
    "    <h4>Mo Goldberger</h4>\n",
    "    <hr>\n",
    "    <h2> Introduction </h2>\n",
    "</center>"
   ]
  },
  {
   "cell_type": "markdown",
   "id": "d9eb3807-482e-46e1-8a05-17e5945b3aa1",
   "metadata": {},
   "source": [
    "This offseason in the NFL, two teams who have two of the best receivers in the leauge have traded those players away. This brings up an interesting team building stragety question in a salary capped leauge..."
   ]
  },
  {
   "cell_type": "code",
   "execution_count": null,
   "id": "15784188-5678-46cc-9d99-a07beafe97af",
   "metadata": {},
   "outputs": [],
   "source": []
  }
 ],
 "metadata": {
  "kernelspec": {
   "display_name": "Python 3 (ipykernel)",
   "language": "python",
   "name": "python3"
  },
  "language_info": {
   "codemirror_mode": {
    "name": "ipython",
    "version": 3
   },
   "file_extension": ".py",
   "mimetype": "text/x-python",
   "name": "python",
   "nbconvert_exporter": "python",
   "pygments_lexer": "ipython3",
   "version": "3.9.7"
  }
 },
 "nbformat": 4,
 "nbformat_minor": 5
}
